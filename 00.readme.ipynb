{
 "cells": [
  {
   "cell_type": "markdown",
   "metadata": {
    "deletable": true,
    "editable": true
   },
   "source": [
    "# explanation #"
   ]
  },
  {
   "cell_type": "markdown",
   "metadata": {
    "deletable": true,
    "editable": true
   },
   "source": [
    "# necessity #\n",
    "confirm that you can run \"gfortran\" and \"f2py\". \n",
    "\n",
    "# make libraries #\n",
    "\n",
    "execute\n",
    "```\n",
    "$ make\n",
    "```\n",
    "and confirm that \n",
    "```\n",
    "  mylib.so\n",
    "  mymod.so\n",
    "  myext.so\n",
    "```\n",
    "are in the directory. \n",
    "\n",
    "\n",
    "# errors in jupyter #\n",
    "If an error occurs in running ipynb, then shutdown the process and restart it. \n"
   ]
  },
  {
   "cell_type": "markdown",
   "metadata": {},
   "source": [
    "# Fortran derived types# \n",
    "f2py does not natively (as of Jan 2013) directly support Fortran derived types. However, you can trick it to treat them as opaque blobs, as shown here, if you tell it how many bytes it should reserve. The exact number of bytes required may vary with compiler/compiler options, so it should be chosen big enough.\n",
    "\n",
    "\n",
    "ref.\n",
    "http://central.scipy.org/item/60/1/f2py-with-opaque-fortran-derived-types"
   ]
  }
 ],
 "metadata": {
  "kernelspec": {
   "display_name": "Python 2",
   "language": "python",
   "name": "python2"
  },
  "language_info": {
   "codemirror_mode": {
    "name": "ipython",
    "version": 2
   },
   "file_extension": ".py",
   "mimetype": "text/x-python",
   "name": "python",
   "nbconvert_exporter": "python",
   "pygments_lexer": "ipython2",
   "version": "2.7.12"
  }
 },
 "nbformat": 4,
 "nbformat_minor": 2
}
