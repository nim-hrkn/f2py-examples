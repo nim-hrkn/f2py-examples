{
 "cells": [
  {
   "cell_type": "markdown",
   "metadata": {
    "deletable": true,
    "editable": true
   },
   "source": [
    "# explanation #"
   ]
  },
  {
   "cell_type": "markdown",
   "metadata": {
    "deletable": true,
    "editable": true
   },
   "source": [
    "# necessity #\n",
    "confirm that you can run \"gfortran\" and \"f2py\". \n",
    "\n",
    "# make libraries #\n",
    "\n",
    "execute\n",
    "```\n",
    "$ make\n",
    "```\n",
    "and confirm that \n",
    "```\n",
    "  mylib.so\n",
    "  mymod.so\n",
    "  myext.so\n",
    "```\n",
    "are in the directory. \n",
    "\n",
    "\n",
    "# errors in jupyter #\n",
    "If an error occurs in running ipynb, then shutdown the process and restart it. \n"
   ]
  }
 ],
 "metadata": {
  "kernelspec": {
   "display_name": "Python 2",
   "language": "python",
   "name": "python2"
  },
  "language_info": {
   "codemirror_mode": {
    "name": "ipython",
    "version": 2
   },
   "file_extension": ".py",
   "mimetype": "text/x-python",
   "name": "python",
   "nbconvert_exporter": "python",
   "pygments_lexer": "ipython2",
   "version": "2.7.12"
  }
 },
 "nbformat": 4,
 "nbformat_minor": 2
}
