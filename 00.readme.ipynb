{
 "cells": [
  {
   "cell_type": "markdown",
   "metadata": {
    "deletable": true,
    "editable": true
   },
   "source": [
    "# explanation #"
   ]
  },
  {
   "cell_type": "markdown",
   "metadata": {
    "deletable": true,
    "editable": true
   },
   "source": [
    "## necessity ##\n",
    "confirm that you can run a fortran compiler, e.g., \"gfortran\",  and \"f2py\". \n",
    "\"f2py\" is a part of scipy.\n",
    "\n",
    "## make libraries ##\n",
    "\n",
    "change a fortran compiler if necessary and \n",
    "execute\n",
    "```\n",
    "$ make\n",
    "```\n",
    "and confirm that \n",
    "```\n",
    "  myext.so\n",
    "  mylib.so\n",
    "  mymod.so\n",
    "```\n",
    "are in the directory. Probably you see so many messages and may think that it failed. If you find +x permission, \n",
    "```\n",
    "-rwxrwxr-x 1 kino kino 146800  3月 16 16:37 myext.so\n",
    "-rwxrwxr-x 1 kino kino 118688  3月 16 16:37 mylib.so\n",
    "-rwxrwxr-x 1 kino kino 120808  3月 16 16:37 mymod.so\n",
    "```\n",
    "it finished successfully. \n",
    "\n",
    "## jupyter notebook ##\n",
    "Then you can run jupyter notebook\n",
    "\n",
    "## errors in jupyter ##\n",
    "If an error occurs in running ipynb, then shutdown the process and restart it. \n"
   ]
  },
  {
   "cell_type": "markdown",
   "metadata": {
    "deletable": true,
    "editable": true
   },
   "source": [
    "# Notes #\n",
    "## You can't use fortran derived types ## \n",
    "f2py **does not** natively (as of Jan 2013) directly support Fortran derived types. However, you can trick it to treat them as opaque blobs, as shown here, if you tell it how many bytes it should reserve. The exact number of bytes required may vary with compiler/compiler options, so it should be chosen big enough.\n",
    "\n",
    "ref.\n",
    "http://central.scipy.org/item/60/1/f2py-with-opaque-fortran-derived-types\n",
    "\n",
    "## Other comments ##\n",
    "- f2py can compile many many files. \n",
    "- You can't write derived types anywhere in the fortran code even if it isn't called directly from the interface code. \n",
    "- You can use module in the fortan side to save/communicate among fortran routines.\n",
    "- f2py is designed so that the fortran is only a sub part of the python, which accelarates a function"
   ]
  },
  {
   "cell_type": "markdown",
   "metadata": {
    "deletable": true,
    "editable": true
   },
   "source": [
    "# How to call fortran subroutine from python #\n",
    "## fortran side ##\n",
    "Explicitly add 'intent(in)' and 'intent(out)' in the definition of fortran subroutine like \n",
    "```\n",
    "subroutine vavbmc(n,m,a,b,c)\n",
    "  implicit none\n",
    "  integer,intent(in):: n,m\n",
    "  real(8),intent(in):: a(n)\n",
    "  real(8),intent(in):: b(m)\n",
    "  real(8),intent(out):: c(n,m)\n",
    "  integer:: i,j\n",
    "  do i=1,m\n",
    "     do j=1,n\n",
    "        c(j,i) = a(j)*b(i)\n",
    "     enddo\n",
    "  enddo\n",
    "end subroutine vavbmc\n",
    "```\n",
    "f2py will make a code which allocates c(n,m) automatically in the python side.  c(:,:) must not be allocatable. Then, save it to mylib.f90\n",
    "## python side ##\n",
    "Then you can call this subroutine as \n",
    "```\n",
    "import mylib\n",
    "# a = np.array(...)\n",
    "# b = np.array(...)\n",
    "c = mylib.vavbmc(a,b)\n",
    "```\n",
    "in python code. f2py passes the array sizes,n and m, automatically to call fortran subroutines.\n",
    "### check usage in python side ###\n",
    "```\n",
    "print mylib.vavbmc.__doc__\n",
    "``` \n",
    "in python will give\n",
    "```\n",
    "c = vavbmc(a,b,[n,m])\n",
    "\n",
    "Wrapper for ``vavbmc``.\n",
    "\n",
    "Parameters\n",
    "----------\n",
    "a : input rank-1 array('d') with bounds (n)\n",
    "b : input rank-1 array('d') with bounds (m)\n",
    "\n",
    "Other Parameters\n",
    "----------------\n",
    "n : input int, optional\n",
    "    Default: len(a)\n",
    "m : input int, optional\n",
    "    Default: len(b)\n",
    "\n",
    "Returns\n",
    "-------\n",
    "c : rank-2 array('d') with bounds (n,m)\n",
    "```"
   ]
  },
  {
   "cell_type": "code",
   "execution_count": null,
   "metadata": {
    "collapsed": true
   },
   "outputs": [],
   "source": []
  },
  {
   "cell_type": "markdown",
   "metadata": {},
   "source": [
    "# Other f90-derived-class-support projects #\n",
    "They are usually f2py wrappers. \n",
    "\n",
    "https://libatoms.github.io/QUIP/oo_fortran.html --- Object oriented interface on top of f2py generated wrappers.\n",
    "\n",
    "https://pypi.python.org/pypi/f90wrap/0.1.4  --- Fortran to Python interface generator with derived type support\n"
   ]
  }
 ],
 "metadata": {
  "kernelspec": {
   "display_name": "Python 2",
   "language": "python",
   "name": "python2"
  },
  "language_info": {
   "codemirror_mode": {
    "name": "ipython",
    "version": 2
   },
   "file_extension": ".py",
   "mimetype": "text/x-python",
   "name": "python",
   "nbconvert_exporter": "python",
   "pygments_lexer": "ipython2",
   "version": "2.7.12"
  }
 },
 "nbformat": 4,
 "nbformat_minor": 2
}
