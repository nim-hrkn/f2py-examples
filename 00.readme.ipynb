{
 "cells": [
  {
   "cell_type": "markdown",
   "metadata": {
    "deletable": true,
    "editable": true
   },
   "source": [
    "# explanation #"
   ]
  },
  {
   "cell_type": "markdown",
   "metadata": {
    "deletable": true,
    "editable": true
   },
   "source": [
    "## necessity ##\n",
    "confirm that you can run a fortran compiler, e.g., \"gfortran\",  and \"f2py\". \n",
    "\"f2py\" is a part of scipy.\n",
    "\n",
    "## make libraries ##\n",
    "\n",
    "change a fortran compiler if necessary and \n",
    "execute\n",
    "```\n",
    "$ make\n",
    "```\n",
    "and confirm that \n",
    "```\n",
    "  myext.so\n",
    "  mylib.so\n",
    "  mymod.so\n",
    "```\n",
    "are in the directory. Probably you see so many messages and may think that it failed. If you find +x permission, \n",
    "```\n",
    "-rwxrwxr-x 1 kino kino 146800  3月 16 16:37 myext.so\n",
    "-rwxrwxr-x 1 kino kino 118688  3月 16 16:37 mylib.so\n",
    "-rwxrwxr-x 1 kino kino 120808  3月 16 16:37 mymod.so\n",
    "```\n",
    "it finished successfully. \n",
    "\n",
    "## jupyter notebook ##\n",
    "Then you can run jupyter notebook\n",
    "\n",
    "## errors in jupyter ##\n",
    "If an error occurs in running ipynb, then shutdown the process and restart it. \n"
   ]
  },
  {
   "cell_type": "markdown",
   "metadata": {
    "deletable": true,
    "editable": true
   },
   "source": [
    "# Notes #\n",
    "## Fortran derived types ## \n",
    "f2py **does not** natively (as of Jan 2013) directly support Fortran derived types. However, you can trick it to treat them as opaque blobs, as shown here, if you tell it how many bytes it should reserve. The exact number of bytes required may vary with compiler/compiler options, so it should be chosen big enough.\n",
    "\n",
    "ref.\n",
    "http://central.scipy.org/item/60/1/f2py-with-opaque-fortran-derived-types\n",
    "\n",
    "## Other comments ##\n",
    "- f2py can compile many many files. \n",
    "- You can't write derived types anywhere in the fortran code even if it isn't called directly from the interface code that has the !f2py directive. \n",
    "- You can use module in the fortan side to save/communicate among fortran routines.\n",
    "- f2py is designed so that the fortran is only a sub part of the python, which accelarates a function"
   ]
  }
 ],
 "metadata": {
  "kernelspec": {
   "display_name": "Python 2",
   "language": "python",
   "name": "python2"
  },
  "language_info": {
   "codemirror_mode": {
    "name": "ipython",
    "version": 2
   },
   "file_extension": ".py",
   "mimetype": "text/x-python",
   "name": "python",
   "nbconvert_exporter": "python",
   "pygments_lexer": "ipython2",
   "version": "2.7.12"
  }
 },
 "nbformat": 4,
 "nbformat_minor": 2
}
