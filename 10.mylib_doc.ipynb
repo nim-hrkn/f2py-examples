{
 "cells": [
  {
   "cell_type": "code",
   "execution_count": 3,
   "metadata": {
    "collapsed": false,
    "deletable": true,
    "editable": true
   },
   "outputs": [
    {
     "name": "stdout",
     "output_type": "stream",
     "text": [
      "c = vavbmc(a,b,[n,m])\n",
      "\n",
      "Wrapper for ``vavbmc``.\n",
      "\n",
      "Parameters\n",
      "----------\n",
      "a : input rank-1 array('d') with bounds (n)\n",
      "b : input rank-1 array('d') with bounds (m)\n",
      "\n",
      "Other Parameters\n",
      "----------------\n",
      "n : input int, optional\n",
      "    Default: len(a)\n",
      "m : input int, optional\n",
      "    Default: len(b)\n",
      "\n",
      "Returns\n",
      "-------\n",
      "c : rank-2 array('d') with bounds (n,m)\n",
      "\n"
     ]
    }
   ],
   "source": [
    "import mylib\n",
    "\n",
    "print mylib.vavbmc.__doc__"
   ]
  },
  {
   "cell_type": "code",
   "execution_count": 2,
   "metadata": {
    "collapsed": false,
    "deletable": true,
    "editable": true
   },
   "outputs": [
    {
     "name": "stdout",
     "output_type": "stream",
     "text": [
      "c = apb(a,b,[n])\n",
      "\n",
      "Wrapper for ``apb``.\n",
      "\n",
      "Parameters\n",
      "----------\n",
      "a : input rank-2 array('d') with bounds (n,n)\n",
      "b : input rank-2 array('d') with bounds (n,n)\n",
      "\n",
      "Other Parameters\n",
      "----------------\n",
      "n : input int, optional\n",
      "    Default: shape(a,0)\n",
      "\n",
      "Returns\n",
      "-------\n",
      "c : rank-2 array('d') with bounds (n,n)\n",
      "\n"
     ]
    }
   ],
   "source": [
    "print mylib.apb.__doc__"
   ]
  },
  {
   "cell_type": "code",
   "execution_count": 3,
   "metadata": {
    "collapsed": false,
    "deletable": true,
    "editable": true
   },
   "outputs": [
    {
     "name": "stdout",
     "output_type": "stream",
     "text": [
      "c = apb_p(p,a,b,[n])\n",
      "\n",
      "Wrapper for ``apb_p``.\n",
      "\n",
      "Parameters\n",
      "----------\n",
      "p : input float\n",
      "a : input rank-2 array('d') with bounds (n,n)\n",
      "b : input rank-2 array('i') with bounds (n,n)\n",
      "\n",
      "Other Parameters\n",
      "----------------\n",
      "n : input int, optional\n",
      "    Default: shape(a,0)\n",
      "\n",
      "Returns\n",
      "-------\n",
      "c : rank-2 array('d') with bounds (n,n)\n",
      "\n"
     ]
    }
   ],
   "source": [
    "print mylib.apb_p.__doc__"
   ]
  },
  {
   "cell_type": "code",
   "execution_count": 4,
   "metadata": {
    "collapsed": false
   },
   "outputs": [
    {
     "name": "stdout",
     "output_type": "stream",
     "text": [
      "arr2 = nparraytest(arr,[n2])\n",
      "\n",
      "Wrapper for ``nparraytest``.\n",
      "\n",
      "Parameters\n",
      "----------\n",
      "arr : input rank-2 array('d') with bounds (3,n2)\n",
      "\n",
      "Other Parameters\n",
      "----------------\n",
      "n2 : input int, optional\n",
      "    Default: shape(arr,1)\n",
      "\n",
      "Returns\n",
      "-------\n",
      "arr2 : rank-2 array('d') with bounds (3,n2)\n",
      "\n"
     ]
    }
   ],
   "source": [
    "print mylib.nparraytest.__doc__"
   ]
  },
  {
   "cell_type": "code",
   "execution_count": 6,
   "metadata": {
    "collapsed": false
   },
   "outputs": [
    {
     "name": "stdout",
     "output_type": "stream",
     "text": [
      "arr2 = nparraytest2(arr,[n1,n2])\n",
      "\n",
      "Wrapper for ``nparraytest2``.\n",
      "\n",
      "Parameters\n",
      "----------\n",
      "arr : input rank-2 array('d') with bounds (n1 + 1,n2 + 1)\n",
      "\n",
      "Other Parameters\n",
      "----------------\n",
      "n1 : input int, optional\n",
      "    Default: (shape(arr,0)-1)\n",
      "n2 : input int, optional\n",
      "    Default: (shape(arr,1)-1)\n",
      "\n",
      "Returns\n",
      "-------\n",
      "arr2 : rank-2 array('d') with bounds (n1 + 1,n2 + 1)\n",
      "\n"
     ]
    }
   ],
   "source": [
    "print mylib.nparraytest2.__doc__"
   ]
  }
 ],
 "metadata": {
  "kernelspec": {
   "display_name": "Python 2",
   "language": "python",
   "name": "python2"
  },
  "language_info": {
   "codemirror_mode": {
    "name": "ipython",
    "version": 2
   },
   "file_extension": ".py",
   "mimetype": "text/x-python",
   "name": "python",
   "nbconvert_exporter": "python",
   "pygments_lexer": "ipython2",
   "version": "2.7.12"
  }
 },
 "nbformat": 4,
 "nbformat_minor": 2
}
