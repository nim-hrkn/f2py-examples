{
 "cells": [
  {
   "cell_type": "code",
   "execution_count": 1,
   "metadata": {
    "collapsed": false,
    "deletable": true,
    "editable": true
   },
   "outputs": [
    {
     "name": "stdout",
     "output_type": "stream",
     "text": [
      "c = vavbmc(a,b,[n,m])\n",
      "\n",
      "Wrapper for ``vavbmc``.\n",
      "\n",
      "Parameters\n",
      "----------\n",
      "a : input rank-1 array('d') with bounds (n)\n",
      "b : input rank-1 array('d') with bounds (m)\n",
      "\n",
      "Other Parameters\n",
      "----------------\n",
      "n : input int, optional\n",
      "    Default: len(a)\n",
      "m : input int, optional\n",
      "    Default: len(b)\n",
      "\n",
      "Returns\n",
      "-------\n",
      "c : rank-2 array('d') with bounds (n,m)\n",
      "\n"
     ]
    }
   ],
   "source": [
    "import myext\n",
    "print myext.m_mylib.vavbmc.__doc__\n"
   ]
  },
  {
   "cell_type": "code",
   "execution_count": 2,
   "metadata": {
    "collapsed": false,
    "deletable": true,
    "editable": true
   },
   "outputs": [
    {
     "name": "stdout",
     "output_type": "stream",
     "text": [
      "a = init(mode,n,fac)\n",
      "\n",
      "Wrapper for ``init``.\n",
      "\n",
      "Parameters\n",
      "----------\n",
      "mode : input string(len=1)\n",
      "n : input int\n",
      "fac : input float\n",
      "\n",
      "Returns\n",
      "-------\n",
      "a : rank-2 array('d') with bounds (n,n)\n",
      "\n"
     ]
    }
   ],
   "source": [
    "print myext.m_mylib.init.__doc__\n"
   ]
  },
  {
   "cell_type": "code",
   "execution_count": 3,
   "metadata": {
    "collapsed": false,
    "deletable": true,
    "editable": true
   },
   "outputs": [
    {
     "name": "stdout",
     "output_type": "stream",
     "text": [
      "c = apb(a,b,[n])\n",
      "\n",
      "Wrapper for ``apb``.\n",
      "\n",
      "Parameters\n",
      "----------\n",
      "a : input rank-2 array('d') with bounds (n,n)\n",
      "b : input rank-2 array('d') with bounds (n,n)\n",
      "\n",
      "Other Parameters\n",
      "----------------\n",
      "n : input int, optional\n",
      "    Default: shape(a,0)\n",
      "\n",
      "Returns\n",
      "-------\n",
      "c : rank-2 array('d') with bounds (n,n)\n",
      "\n"
     ]
    }
   ],
   "source": [
    "print myext.m_mylib.apb.__doc__\n"
   ]
  },
  {
   "cell_type": "code",
   "execution_count": 4,
   "metadata": {
    "collapsed": false,
    "deletable": true,
    "editable": true
   },
   "outputs": [
    {
     "name": "stdout",
     "output_type": "stream",
     "text": [
      "c = apb_p(p,a,b,[n])\n",
      "\n",
      "Wrapper for ``apb_p``.\n",
      "\n",
      "Parameters\n",
      "----------\n",
      "p : input float\n",
      "a : input rank-2 array('d') with bounds (n,n)\n",
      "b : input rank-2 array('i') with bounds (n,n)\n",
      "\n",
      "Other Parameters\n",
      "----------------\n",
      "n : input int, optional\n",
      "    Default: shape(a,0)\n",
      "\n",
      "Returns\n",
      "-------\n",
      "c : rank-2 array('d') with bounds (n,n)\n",
      "\n"
     ]
    }
   ],
   "source": [
    "print myext.m_mylib.apb_p.__doc__"
   ]
  },
  {
   "cell_type": "code",
   "execution_count": null,
   "metadata": {
    "collapsed": true,
    "deletable": true,
    "editable": true
   },
   "outputs": [],
   "source": []
  }
 ],
 "metadata": {
  "kernelspec": {
   "display_name": "Python 2",
   "language": "python",
   "name": "python2"
  },
  "language_info": {
   "codemirror_mode": {
    "name": "ipython",
    "version": 2
   },
   "file_extension": ".py",
   "mimetype": "text/x-python",
   "name": "python",
   "nbconvert_exporter": "python",
   "pygments_lexer": "ipython2",
   "version": "2.7.12"
  }
 },
 "nbformat": 4,
 "nbformat_minor": 2
}
